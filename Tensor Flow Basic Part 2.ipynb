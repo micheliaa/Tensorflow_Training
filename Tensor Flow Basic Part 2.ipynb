{
 "cells": [
  {
   "cell_type": "code",
   "execution_count": 1,
   "id": "2457506e",
   "metadata": {},
   "outputs": [],
   "source": [
    "import tensorflow as tf"
   ]
  },
  {
   "cell_type": "code",
   "execution_count": 2,
   "id": "1f9de15d",
   "metadata": {},
   "outputs": [],
   "source": [
    "import tensorflow.keras.layers as layers\n",
    "from tensorflow import keras"
   ]
  },
  {
   "cell_type": "code",
   "execution_count": 3,
   "id": "78e3b600",
   "metadata": {},
   "outputs": [],
   "source": [
    "model = tf.keras.Sequential()\n",
    "model.add(layers.Dense(32, activation='relu'))\n",
    "model.add(layers.Dense(32, activation='relu'))\n",
    "model.add(layers.Dense(10, activation='softmax'))\n"
   ]
  },
  {
   "cell_type": "code",
   "execution_count": 4,
   "id": "7f5fbb64",
   "metadata": {},
   "outputs": [
    {
     "name": "stdout",
     "output_type": "stream",
     "text": [
      "Model: \"model\"\n",
      "_________________________________________________________________\n",
      " Layer (type)                Output Shape              Param #   \n",
      "=================================================================\n",
      " input_1 (InputLayer)        [(None, 32)]              0         \n",
      "                                                                 \n",
      " dense_3 (Dense)             (None, 32)                1056      \n",
      "                                                                 \n",
      " dense_4 (Dense)             (None, 32)                1056      \n",
      "                                                                 \n",
      " dense_5 (Dense)             (None, 10)                330       \n",
      "                                                                 \n",
      "=================================================================\n",
      "Total params: 2,442\n",
      "Trainable params: 2,442\n",
      "Non-trainable params: 0\n",
      "_________________________________________________________________\n"
     ]
    }
   ],
   "source": [
    "x = tf.keras.Input(shape=(32,))\n",
    "h1 = layers.Dense(32, activation=\"relu\")(x)\n",
    "h2 = layers.Dense(32, activation=\"relu\")(h1)\n",
    "y = layers.Dense(10, activation=\"softmax\")(h2)\n",
    "\n",
    "model_sample_2 = tf.keras.models.Model(x,y)\n",
    "\n",
    "model_sample_2.summary()"
   ]
  },
  {
   "cell_type": "code",
   "execution_count": 5,
   "id": "1a1f5246",
   "metadata": {},
   "outputs": [
    {
     "data": {
      "text/plain": [
       "<keras.layers.convolutional.conv2d.Conv2D at 0x1c15806d7f0>"
      ]
     },
     "execution_count": 5,
     "metadata": {},
     "output_type": "execute_result"
    }
   ],
   "source": [
    "layers.Conv2D(64,[1,1],2,padding='same',activation=\"relu\")"
   ]
  },
  {
   "cell_type": "code",
   "execution_count": 6,
   "id": "bf00dc75",
   "metadata": {},
   "outputs": [
    {
     "data": {
      "text/plain": [
       "<keras.layers.pooling.max_pooling2d.MaxPooling2D at 0x1c15818e3a0>"
      ]
     },
     "execution_count": 6,
     "metadata": {},
     "output_type": "execute_result"
    }
   ],
   "source": [
    "layers.MaxPooling2D(pool_size=(2,2),strides=(2,1))"
   ]
  },
  {
   "cell_type": "code",
   "execution_count": 7,
   "id": "b43e0e72",
   "metadata": {},
   "outputs": [],
   "source": [
    "import numpy as np"
   ]
  },
  {
   "cell_type": "code",
   "execution_count": 8,
   "id": "b10022d0",
   "metadata": {},
   "outputs": [
    {
     "name": "stdout",
     "output_type": "stream",
     "text": [
      "[[[0.1], [0.2], [0.3]]]\n",
      "1/1 [==============================] - 7s 7s/step\n",
      "output when return_sequences is set to True [[[-0.02121617]\n",
      "  [-0.05239021]\n",
      "  [-0.08641541]]]\n",
      "1/1 [==============================] - 0s 45ms/step\n",
      "output when return_sequences is set to False [[[-0.02121617]\n",
      "  [-0.05239021]\n",
      "  [-0.08641541]]]\n"
     ]
    }
   ],
   "source": [
    "inputs = tf.keras.Input(shape=(3, 1))\n",
    "lstm = layers.LSTM(1, return_sequences=True)(inputs)\n",
    "model_lstm_1 = tf.keras.models.Model(inputs=inputs, outputs=lstm)\n",
    "\n",
    "inputs = tf.keras.Input(shape=(3, 1))\n",
    "lstm = layers.LSTM(1, return_sequences=False)(inputs)\n",
    "model_lstm_2 = tf.keras.models.Model(inputs=inputs, outputs=lstm)\n",
    "\n",
    "data = [[[0.1],\n",
    "        [0.2],\n",
    "        [0.3]]]\n",
    "print(data)\n",
    "print(\"output when return_sequences is set to True\", model_lstm_1.predict(data))\n",
    "print(\"output when return_sequences is set to False\", model_lstm_1.predict(data))"
   ]
  },
  {
   "cell_type": "code",
   "execution_count": 9,
   "id": "8dae7939",
   "metadata": {},
   "outputs": [
    {
     "name": "stdout",
     "output_type": "stream",
     "text": [
      "Model: \"model_3\"\n",
      "_________________________________________________________________\n",
      " Layer (type)                Output Shape              Param #   \n",
      "=================================================================\n",
      " input_4 (InputLayer)        [(None, None, 3)]         0         \n",
      "                                                                 \n",
      " rnn (RNN)                   (None, 16)                1280      \n",
      "                                                                 \n",
      "=================================================================\n",
      "Total params: 1,280\n",
      "Trainable params: 1,280\n",
      "Non-trainable params: 0\n",
      "_________________________________________________________________\n"
     ]
    }
   ],
   "source": [
    "tf.keras.layers.LSTM(16, return_sequences=True)\n",
    "\n",
    "x = tf.keras.Input((None, 3))\n",
    "y = layers.RNN(layers.LSTMCell(16))(x)\n",
    "model_lstm_3 = tf.keras.Model(x,y)\n",
    "\n",
    "model = tf.keras.Sequential()\n",
    "model.add(layers.Dense(10, activation=\"softmax\"))\n",
    "\n",
    "model_lstm_3.summary()"
   ]
  },
  {
   "cell_type": "code",
   "execution_count": 10,
   "id": "bb505c75",
   "metadata": {},
   "outputs": [],
   "source": [
    "model.compile(\n",
    "    optimizer=tf.keras.optimizers.Adam(0.001),\n",
    "    loss=tf.keras.losses.categorical_crossentropy, \n",
    "    metrics=[tf.keras.metrics.categorical_accuracy])\n"
   ]
  },
  {
   "cell_type": "code",
   "execution_count": 11,
   "id": "2c53dea2",
   "metadata": {},
   "outputs": [
    {
     "name": "stdout",
     "output_type": "stream",
     "text": [
      "Epoch 1/10\n",
      "10/10 [==============================] - 3s 43ms/step - loss: 12.5908 - categorical_accuracy: 0.0870 - val_loss: 12.6131 - val_categorical_accuracy: 0.1000\n",
      "Epoch 2/10\n",
      "10/10 [==============================] - 0s 6ms/step - loss: 12.5899 - categorical_accuracy: 0.0870 - val_loss: 12.6121 - val_categorical_accuracy: 0.1000\n",
      "Epoch 3/10\n",
      "10/10 [==============================] - 0s 5ms/step - loss: 12.5898 - categorical_accuracy: 0.0870 - val_loss: 12.6120 - val_categorical_accuracy: 0.1000\n",
      "Epoch 4/10\n",
      "10/10 [==============================] - 0s 5ms/step - loss: 12.5881 - categorical_accuracy: 0.0870 - val_loss: 12.6098 - val_categorical_accuracy: 0.1000\n",
      "Epoch 5/10\n",
      "10/10 [==============================] - 0s 6ms/step - loss: 12.5872 - categorical_accuracy: 0.0870 - val_loss: 12.6100 - val_categorical_accuracy: 0.1000\n",
      "Epoch 6/10\n",
      "10/10 [==============================] - 0s 5ms/step - loss: 12.5875 - categorical_accuracy: 0.0870 - val_loss: 12.6101 - val_categorical_accuracy: 0.1000\n",
      "Epoch 7/10\n",
      "10/10 [==============================] - 0s 7ms/step - loss: 12.5884 - categorical_accuracy: 0.0870 - val_loss: 12.6113 - val_categorical_accuracy: 0.1000\n",
      "Epoch 8/10\n",
      "10/10 [==============================] - 0s 6ms/step - loss: 12.5878 - categorical_accuracy: 0.0870 - val_loss: 12.6096 - val_categorical_accuracy: 0.1000\n",
      "Epoch 9/10\n",
      "10/10 [==============================] - 0s 6ms/step - loss: 12.5855 - categorical_accuracy: 0.0870 - val_loss: 12.6070 - val_categorical_accuracy: 0.1000\n",
      "Epoch 10/10\n",
      "10/10 [==============================] - 0s 5ms/step - loss: 12.5845 - categorical_accuracy: 0.0870 - val_loss: 12.6072 - val_categorical_accuracy: 0.1000\n"
     ]
    },
    {
     "data": {
      "text/plain": [
       "<keras.callbacks.History at 0x1c1597171f0>"
      ]
     },
     "execution_count": 11,
     "metadata": {},
     "output_type": "execute_result"
    }
   ],
   "source": [
    "train_x = np.random.random((1000, 36))\n",
    "train_y = np.random.random((1000, 10))\n",
    "val_x = np.random.random((200, 36))\n",
    "val_y = np.random.random((200, 10))\n",
    "\n",
    "model.fit(train_x, train_y, epochs=10, batch_size=100,\n",
    "         validation_data=(val_x, val_y))"
   ]
  },
  {
   "cell_type": "code",
   "execution_count": 12,
   "id": "f67f2825",
   "metadata": {},
   "outputs": [
    {
     "name": "stdout",
     "output_type": "stream",
     "text": [
      "32/32 [==============================] - 0s 2ms/step - loss: 12.5958 - categorical_accuracy: 0.1130\n"
     ]
    },
    {
     "data": {
      "text/plain": [
       "[12.595813751220703, 0.11299999803304672]"
      ]
     },
     "execution_count": 12,
     "metadata": {},
     "output_type": "execute_result"
    }
   ],
   "source": [
    "test_x = np.random.random((1000, 36))\n",
    "test_y = np.random.random((1000, 10))\n",
    "model.evaluate(test_x, test_y, batch_size=32)"
   ]
  },
  {
   "cell_type": "code",
   "execution_count": 15,
   "id": "fba6aa93",
   "metadata": {},
   "outputs": [
    {
     "name": "stdout",
     "output_type": "stream",
     "text": [
      "32/32 [==============================] - 0s 1ms/step\n",
      "[[0.05546078 0.12379247 0.0646968  ... 0.09343503 0.0755486  0.04510788]\n",
      " [0.02958948 0.05486373 0.04553977 ... 0.10218485 0.1127058  0.01890107]\n",
      " [0.05537532 0.13867564 0.06323746 ... 0.09637002 0.0617594  0.04875376]\n",
      " ...\n",
      " [0.08738694 0.07340464 0.04599665 ... 0.11434118 0.06346446 0.04524622]\n",
      " [0.03010909 0.04954219 0.04237186 ... 0.16082841 0.06504417 0.01820066]\n",
      " [0.06165169 0.06586759 0.07250672 ... 0.06458043 0.1149959  0.06928828]]\n"
     ]
    }
   ],
   "source": [
    "pre_x = np.random.random((10, 36))\n",
    "result = model.predict(test_x,)\n",
    "print(result)"
   ]
  },
  {
   "cell_type": "code",
   "execution_count": 16,
   "id": "5de99bcd",
   "metadata": {},
   "outputs": [],
   "source": [
    "import os"
   ]
  },
  {
   "cell_type": "code",
   "execution_count": 18,
   "id": "c1d70f94",
   "metadata": {},
   "outputs": [
    {
     "name": "stdout",
     "output_type": "stream",
     "text": [
      "32/32 [==============================] - 0s 2ms/step\n"
     ]
    }
   ],
   "source": [
    "mode\n",
    "model_path = os.path.join(root_path,'the_save_model.h5')\n",
    "\n",
    "model.save('./model/the_save_model.h5')\n",
    "model.save(model_path)\n",
    "\n",
    "new_model = tf.keras.models.load_model('./model/the_save_model.h5')\n",
    "\n",
    "new_model = tf.keras.models.load_model(model_path)\n",
    "\n",
    "new_prediction = new_model.predict(test_x)\n",
    "\n",
    "np.testing.assert_allclose(result, new_prediction, atol=1e-6)"
   ]
  },
  {
   "cell_type": "code",
   "execution_count": 20,
   "id": "d71b0806",
   "metadata": {},
   "outputs": [],
   "source": [
    "model.save_weights('.model/model_weights')\n",
    "model.save_weights('.model/model_weights.h5')\n",
    "\n",
    "weight_path = os.path.join(root_path, 'model_weights')\n",
    "weighth5_path = os.path.join(root_path, 'model_weight.h5')\n",
    "\n",
    "model.save_weights(weight_path)\n",
    "model.save_weights(weighth5_path)\n",
    "\n",
    "model.load_weights('.model/model_weights')\n",
    "model.load_weights('.model/model_weights.h5')\n",
    "\n",
    "model.load_weights(weight_path)\n",
    "model.load_weights(weighth5_path)"
   ]
  },
  {
   "cell_type": "code",
   "execution_count": null,
   "id": "53018560",
   "metadata": {},
   "outputs": [],
   "source": []
  }
 ],
 "metadata": {
  "kernelspec": {
   "display_name": "Python 3 (ipykernel)",
   "language": "python",
   "name": "python3"
  },
  "language_info": {
   "codemirror_mode": {
    "name": "ipython",
    "version": 3
   },
   "file_extension": ".py",
   "mimetype": "text/x-python",
   "name": "python",
   "nbconvert_exporter": "python",
   "pygments_lexer": "ipython3",
   "version": "3.9.12"
  }
 },
 "nbformat": 4,
 "nbformat_minor": 5
}
